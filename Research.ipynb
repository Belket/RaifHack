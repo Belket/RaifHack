{
 "cells": [
  {
   "cell_type": "code",
   "execution_count": 1,
   "metadata": {},
   "outputs": [],
   "source": [
    "import pandas as pd\n",
    "import numpy as np\n",
    "from lightgbm import LGBMRegressor\n",
    "from copy import deepcopy\n",
    "import numpy as np\n",
    "import statsmodels.api as sm\n",
    "import statistics as sts"
   ]
  },
  {
   "cell_type": "code",
   "execution_count": 2,
   "metadata": {},
   "outputs": [
    {
     "name": "stderr",
     "output_type": "stream",
     "text": [
      "D:\\programmes\\Anaconda\\lib\\site-packages\\IPython\\core\\interactiveshell.py:3418: DtypeWarning: Columns (1) have mixed types.Specify dtype option on import or set low_memory=False.\n",
      "  exec(code_obj, self.user_global_ns, self.user_ns)\n"
     ]
    }
   ],
   "source": [
    "df = pd.read_csv('train.csv')"
   ]
  },
  {
   "cell_type": "markdown",
   "metadata": {},
   "source": [
    "## NaN preprocessing"
   ]
  },
  {
   "cell_type": "code",
   "execution_count": 3,
   "metadata": {},
   "outputs": [
    {
     "data": {
      "text/plain": [
       "floor                             176237\n",
       "osm_city_nearest_population           55\n",
       "reform_house_population_1000       14596\n",
       "reform_house_population_500        27234\n",
       "reform_mean_floor_count_1000       16708\n",
       "reform_mean_floor_count_500        30168\n",
       "reform_mean_year_building_1000     16239\n",
       "reform_mean_year_building_500      29637\n",
       "street                              1606\n",
       "dtype: int64"
      ]
     },
     "execution_count": 3,
     "metadata": {},
     "output_type": "execute_result"
    }
   ],
   "source": [
    "df.isnull().sum().iloc[np.where(df.isnull().sum() != 0)]"
   ]
  },
  {
   "cell_type": "markdown",
   "metadata": {},
   "source": [
    "#### Floor"
   ]
  },
  {
   "cell_type": "code",
   "execution_count": 4,
   "metadata": {},
   "outputs": [],
   "source": [
    "def determine_hight_category(x):\n",
    "    '''\n",
    "    1 - floors from 1 to 5\n",
    "    2 - floors from 6 to 10\n",
    "    3 - floors from 10 to 30\n",
    "    4 - floors from 30 to 90\n",
    "    '''\n",
    "    try:\n",
    "        x = float(x)\n",
    "    except:\n",
    "        return 1\n",
    "    else:\n",
    "        if 1 <= x < 5:\n",
    "            return 1\n",
    "        elif 5 <= x < 10:\n",
    "            return 2\n",
    "        elif 10 <= x < 30:\n",
    "            return 3\n",
    "        else:\n",
    "            return 4\n",
    "        \n",
    "def is_wholesale(x):\n",
    "    x = str(x)\n",
    "    if len(x.split(',')) >= 2:\n",
    "        return 1\n",
    "    return 0"
   ]
  },
  {
   "cell_type": "code",
   "execution_count": 5,
   "metadata": {},
   "outputs": [],
   "source": [
    "df['wholesale'] = df['floor'].apply(is_wholesale)\n",
    "df['floor_hight_category'] = df['floor'].apply(determine_hight_category)\n",
    "df.drop(['floor'], inplace=True, axis=1)"
   ]
  },
  {
   "cell_type": "markdown",
   "metadata": {},
   "source": [
    "#### osm_city_nearest_population"
   ]
  },
  {
   "cell_type": "code",
   "execution_count": 6,
   "metadata": {},
   "outputs": [],
   "source": [
    "def determine_osm_city_nearest_population(observation_string):\n",
    "    if pd.isnull(observation_string.osm_city_nearest_population):\n",
    "        observation_region = observation_string.region\n",
    "        value = aggregation_osm_city_nearest_population[aggregation_osm_city_nearest_population.region == observation_region]. \\\n",
    "                values[0]\n",
    "        observation_string.osm_city_nearest_population = value\n",
    "    return observation_string"
   ]
  },
  {
   "cell_type": "code",
   "execution_count": 7,
   "metadata": {},
   "outputs": [],
   "source": [
    "aggregation_osm_city_nearest_population = df.groupby(by=['region']). \\\n",
    "                                          aggregate({'osm_city_nearest_population': np.mean}). \\\n",
    "                                          osm_city_nearest_population. \\\n",
    "                                          reset_index()"
   ]
  },
  {
   "cell_type": "code",
   "execution_count": 8,
   "metadata": {},
   "outputs": [],
   "source": [
    "df = df.apply(determine_osm_city_nearest_population, axis=1)"
   ]
  },
  {
   "cell_type": "markdown",
   "metadata": {},
   "source": [
    "#### reform_house_population_1000 && reform_house_population_500"
   ]
  },
  {
   "cell_type": "code",
   "execution_count": 9,
   "metadata": {},
   "outputs": [],
   "source": [
    "aggregation_reform_house_population = df.groupby(by=['city']). \\\n",
    "                                      aggregate({'reform_house_population_1000': np.mean,\n",
    "                                                 'reform_house_population_500': np.mean})"
   ]
  },
  {
   "cell_type": "code",
   "execution_count": 10,
   "metadata": {},
   "outputs": [],
   "source": [
    "data_for_reform_house_population_500 = aggregation_reform_house_population.reform_house_population_500.reset_index()\n",
    "data_for_reform_house_population_1000 = aggregation_reform_house_population.reform_house_population_1000.reset_index()"
   ]
  },
  {
   "cell_type": "code",
   "execution_count": 11,
   "metadata": {},
   "outputs": [],
   "source": [
    "def determine_reform_house_population(x, r):\n",
    "    if r == 500:\n",
    "        data = data_for_reform_house_population_500\n",
    "    else:\n",
    "        data = data_for_reform_house_population_1000\n",
    "    value = data[data.city == x]['reform_house_population_{}'.format(r)].values[0]\n",
    "    if pd.isnull(value):\n",
    "        value = sts.mode(data['reform_house_population_{}'.format(r)])\n",
    "    return value"
   ]
  },
  {
   "cell_type": "code",
   "execution_count": null,
   "metadata": {},
   "outputs": [],
   "source": [
    "df['reform_house_population_500'] = df['city'].apply(lambda x: determine_reform_house_population(x, 500))\n",
    "df['reform_house_population_1000'] = df['city'].apply(lambda x: determine_reform_house_population(x, 1000))"
   ]
  },
  {
   "cell_type": "markdown",
   "metadata": {},
   "source": [
    "#### reform_mean_floor_count_1000 && reform_mean_floor_count_500"
   ]
  },
  {
   "cell_type": "code",
   "execution_count": null,
   "metadata": {},
   "outputs": [],
   "source": [
    "aggregation_reform_mean_floor_count = df.groupby(by=['city']). \\\n",
    "                                      aggregate({'reform_mean_floor_count_1000': np.mean,\n",
    "                                                 'reform_mean_floor_count_500': np.mean})"
   ]
  },
  {
   "cell_type": "code",
   "execution_count": null,
   "metadata": {},
   "outputs": [],
   "source": [
    "data_for_reform_mean_floor_count_500 = aggregation_reform_mean_floor_count.reform_mean_floor_count_500.reset_index()\n",
    "data_for_reform_mean_floor_count_1000 = aggregation_reform_mean_floor_count.reform_mean_floor_count_1000.reset_index()"
   ]
  },
  {
   "cell_type": "code",
   "execution_count": null,
   "metadata": {},
   "outputs": [],
   "source": [
    "def determine_mean_floor_count(x, r):\n",
    "    if r == 500:\n",
    "        data = data_for_reform_mean_floor_count_500\n",
    "    else:\n",
    "        data = data_for_reform_mean_floor_count_1000\n",
    "    value = data[data.city == x]['reform_mean_floor_count_{}'.format(r)].values[0]\n",
    "    if pd.isnull(value):\n",
    "        value = sts.mode(data['reform_mean_floor_count_{}'.format(r)])\n",
    "    return value"
   ]
  },
  {
   "cell_type": "code",
   "execution_count": null,
   "metadata": {},
   "outputs": [],
   "source": [
    "df['reform_mean_floor_count_500'] = df['city'].apply(lambda x: determine_mean_floor_count(x, 500))\n",
    "df['reform_mean_floor_count_1000'] = df['city'].apply(lambda x: determine_mean_floor_count(x, 1000))"
   ]
  },
  {
   "cell_type": "markdown",
   "metadata": {},
   "source": [
    "#### reform_mean_year_building_1000 && reform_mean_year_building_500"
   ]
  },
  {
   "cell_type": "code",
   "execution_count": 9,
   "metadata": {},
   "outputs": [],
   "source": [
    "aggregation = df.groupby(by=['region']). \\\n",
    "              aggregate({'reform_mean_year_building_1000': np.mean, 'reform_mean_year_building_500': np.mean})"
   ]
  },
  {
   "cell_type": "code",
   "execution_count": null,
   "metadata": {},
   "outputs": [],
   "source": []
  },
  {
   "cell_type": "markdown",
   "metadata": {},
   "source": [
    "#### street"
   ]
  },
  {
   "cell_type": "code",
   "execution_count": null,
   "metadata": {},
   "outputs": [],
   "source": [
    "def fill_street(x):\n",
    "    if x.count()<=0:\n",
    "        return np.nan\n",
    "    return x.value_counts().index[0]\n",
    "\n",
    "df['street'] = df.groupby('city')['street'].transform(fill_street)\n",
    "df['street'] = df['street'].fillna(df['street'].value_counts().idxmax())"
   ]
  },
  {
   "cell_type": "code",
   "execution_count": null,
   "metadata": {},
   "outputs": [],
   "source": [
    "# check for result\n",
    "df.isnull().sum().iloc[np.where(df.isnull().sum() != 0)]"
   ]
  },
  {
   "cell_type": "markdown",
   "metadata": {},
   "source": [
    "## Feature Selection"
   ]
  },
  {
   "cell_type": "markdown",
   "metadata": {},
   "source": [
    "### Stepwize selection"
   ]
  },
  {
   "cell_type": "code",
   "execution_count": 80,
   "metadata": {},
   "outputs": [],
   "source": [
    "target = 'per_square_meter_price'\n",
    "\n",
    "categorial_features = [\n",
    "    'city',\n",
    "    'floor',\n",
    "    'id',\n",
    "    'osm_city_nearest_name',\n",
    "    'region',\n",
    "    'street',\n",
    "    'realty_type',\n",
    "    'price_type'\n",
    "]\n",
    "\n",
    "drop_columns = categorial_features + ['date', 'per_square_meter_price']\n",
    "\n",
    "x_columns = list(set(df.columns) - set(drop_columns))"
   ]
  },
  {
   "cell_type": "code",
   "execution_count": 84,
   "metadata": {},
   "outputs": [],
   "source": [
    "def stepwize_regression(df):\n",
    "    \n",
    "    df_temp = deepcopy(df)\n",
    "    df_temp.dropna(inplace=True)  # should be preprocessed before this function\n",
    "    p_value_threshold = 0.05  # if greater, than should be dropped\n",
    "    \n",
    "    current_columns = []\n",
    "    for column in x_columns:\n",
    "        current_columns.append(column)\n",
    "        X = df_temp[current_columns].astype(float)\n",
    "        y = list(df_temp[target])\n",
    "        results = sm.OLS(y, X).fit()\n",
    "        appropriate_features = results.pvalues.iloc[np.where(results.pvalues <= p_value_threshold)]\n",
    "        \n",
    "    return appropriate_features"
   ]
  },
  {
   "cell_type": "code",
   "execution_count": 86,
   "metadata": {},
   "outputs": [],
   "source": [
    "appropriate_features = stepwize_regression(df)"
   ]
  },
  {
   "cell_type": "code",
   "execution_count": 87,
   "metadata": {},
   "outputs": [
    {
     "data": {
      "text/plain": [
       "53"
      ]
     },
     "execution_count": 87,
     "metadata": {},
     "output_type": "execute_result"
    }
   ],
   "source": [
    "len(appropriate_features)"
   ]
  },
  {
   "cell_type": "code",
   "execution_count": null,
   "metadata": {},
   "outputs": [],
   "source": []
  }
 ],
 "metadata": {
  "kernelspec": {
   "display_name": "Python 3",
   "language": "python",
   "name": "python3"
  },
  "language_info": {
   "codemirror_mode": {
    "name": "ipython",
    "version": 3
   },
   "file_extension": ".py",
   "mimetype": "text/x-python",
   "name": "python",
   "nbconvert_exporter": "python",
   "pygments_lexer": "ipython3",
   "version": "3.8.5"
  }
 },
 "nbformat": 4,
 "nbformat_minor": 4
}
